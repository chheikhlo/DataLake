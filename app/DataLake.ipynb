{
 "cells": [
  {
   "cell_type": "code",
   "execution_count": 1,
   "metadata": {
    "vscode": {
     "languageId": "plaintext"
    }
   },
   "outputs": [],
   "source": [
    "from pyspark.sql import SparkSession\n",
    "from pyspark.sql.functions import col, collect_list, concat_ws, first"
   ]
  },
  {
   "cell_type": "code",
   "execution_count": 2,
   "metadata": {
    "vscode": {
     "languageId": "plaintext"
    }
   },
   "outputs": [],
   "source": [
    "# Création Session Spark\n",
    "spark = (SparkSession.builder\n",
    "         .config(\"spark.hadoop.fs.defaultFS\", \"hdfs://namenode:9000\")\n",
    "         .getOrCreate())"
   ]
  },
  {
   "cell_type": "code",
   "execution_count": 3,
   "metadata": {
    "vscode": {
     "languageId": "plaintext"
    }
   },
   "outputs": [
    {
     "name": "stdout",
     "output_type": "stream",
     "text": [
      "+------------+-------------+-----------+--------+--------------+\n",
      "|EntityNumber|ActivityGroup|NaceVersion|NaceCode|Classification|\n",
      "+------------+-------------+-----------+--------+--------------+\n",
      "|0200.065.765|            6|       2008|   84130|          MAIN|\n",
      "|0200.065.765|            1|       2008|   41101|          MAIN|\n",
      "|0200.065.765|            1|       2003|   70111|          MAIN|\n",
      "|0200.068.636|            6|       2008|   36000|          MAIN|\n",
      "|0200.068.636|            1|       2008|   36000|          MAIN|\n",
      "+------------+-------------+-----------+--------+--------------+\n",
      "only showing top 5 rows\n",
      "\n",
      "+-------------+----+--------+-----------------+\n",
      "|     Category|Code|Language|      Description|\n",
      "+-------------+----+--------+-----------------+\n",
      "|ActivityGroup| 001|      FR|    Activités TVA|\n",
      "|ActivityGroup| 001|      NL| BTW-activiteiten|\n",
      "|ActivityGroup| 002|      FR|   Activités EDRL|\n",
      "|ActivityGroup| 002|      NL|EDRL-activiteiten|\n",
      "|ActivityGroup| 003|      FR|        Activités|\n",
      "+-------------+----+--------+-----------------+\n",
      "only showing top 5 rows\n",
      "\n",
      "+------------+--------+------------------+--------------------+\n",
      "|EntityNumber|Language|TypeOfDenomination|        Denomination|\n",
      "+------------+--------+------------------+--------------------+\n",
      "|0200.065.765|       2|                 1|Intergemeentelijk...|\n",
      "|0200.065.765|       2|                 2|              Veneco|\n",
      "|0200.068.636|       2|                 1|               Farys|\n",
      "|0200.171.970|       0|                 1|Sanatorium-Hospit...|\n",
      "|0200.245.711|       2|                 1|Intercommunaal Sa...|\n",
      "+------------+--------+------------------+--------------------+\n",
      "only showing top 5 rows\n",
      "\n",
      "+------------+-------------+---------+---------+-------+-------------------+-------------------+--------------+--------------+-----------+----+----------------+---------------+\n",
      "|EntityNumber|TypeOfAddress|CountryNL|CountryFR|Zipcode|     MunicipalityNL|     MunicipalityFR|      StreetNL|      StreetFR|HouseNumber| Box|ExtraAddressInfo|DateStrikingOff|\n",
      "+------------+-------------+---------+---------+-------+-------------------+-------------------+--------------+--------------+-----------+----+----------------+---------------+\n",
      "|0200.065.765|         REGO|     NULL|     NULL|   9070|       Destelbergen|       Destelbergen| Panhuisstraat| Panhuisstraat|          1|NULL|            NULL|           NULL|\n",
      "|0200.068.636|         REGO|     NULL|     NULL|   9000|               Gent|               Gent|   Stropstraat|   Stropstraat|          1|NULL|            NULL|           NULL|\n",
      "|0200.171.970|         REGO|     NULL|     NULL|   9000|               Gent|               Gent|    Brabantdam|    Brabantdam|        101|NULL|            NULL|           NULL|\n",
      "|0200.245.711|         REGO|     NULL|     NULL|   9500|     Geraardsbergen|     Geraardsbergen|Hoge Buizemont|Hoge Buizemont|        247|NULL|            NULL|           NULL|\n",
      "|0200.305.493|         REGO|     NULL|     NULL|   9520|Sint-Lievens-Houtem|Sint-Lievens-Houtem|Gentsesteenweg|Gentsesteenweg|         1B|NULL|            NULL|           NULL|\n",
      "+------------+-------------+---------+---------+-------+-------------------+-------------------+--------------+--------------+-----------+----+----------------+---------------+\n",
      "only showing top 5 rows\n",
      "\n"
     ]
    }
   ],
   "source": [
    "activity = spark.read.csv(\"hdfs://namenode:9000/data/activity.csv\", header=True, inferSchema=True)\n",
    "code = spark.read.csv(\"hdfs://namenode:9000/data/code.csv\", header=True, inferSchema=True)\n",
    "denomination = spark.read.csv(\"hdfs://namenode:9000/data/denomination.csv\", header=True, inferSchema=True)\n",
    "address = spark.read.csv(\"hdfs://namenode:9000/data/address.csv\", header=True, inferSchema=True)\n",
    "\n",
    "activity.show(5)\n",
    "code.show(5)\n",
    "denomination.show(5)\n",
    "address.show(5)"
   ]
  },
  {
   "cell_type": "code",
   "execution_count": 4,
   "metadata": {
    "vscode": {
     "languageId": "plaintext"
    }
   },
   "outputs": [
    {
     "name": "stdout",
     "output_type": "stream",
     "text": [
      "+------------+-------------+-----------+--------+--------------+--------------------+\n",
      "|EntityNumber|ActivityGroup|NaceVersion|NaceCode|Classification|         Description|\n",
      "+------------+-------------+-----------+--------+--------------+--------------------+\n",
      "|0200.065.765|            6|       2008|   84130|          MAIN|Administration pu...|\n",
      "|0200.065.765|            1|       2008|   41101|          MAIN|Promotion immobil...|\n",
      "|0200.068.636|            6|       2008|   36000|          MAIN|Captage, traiteme...|\n",
      "|0200.068.636|            1|       2008|   36000|          MAIN|Captage, traiteme...|\n",
      "|0200.068.636|            1|       2008|   93110|          SECO|Gestion d'install...|\n",
      "+------------+-------------+-----------+--------+--------------+--------------------+\n",
      "only showing top 5 rows\n",
      "\n"
     ]
    }
   ],
   "source": [
    "# Filtre du code pour Nace2008 en Français\n",
    "code2008fr = code.filter(\n",
    "    (col(\"Category\") == \"Nace2008\") &\n",
    "    (col(\"Language\") == \"FR\")\n",
    ").select(\"Code\", \"Description\")\n",
    "\n",
    "# Filtre uniquement des activités 2008\n",
    "activity2008 = activity.filter(col(\"NaceVersion\") == 2008)\n",
    "\n",
    "# Joindre activity2008 avec code2008fr pour obtenir la description NACE\n",
    "activity_desc = activity2008.join(\n",
    "    code2008fr,\n",
    "    activity2008.NaceCode == code2008fr.Code,\n",
    "    how=\"left\"\n",
    ").drop(code2008fr.Code)\n",
    "\n",
    "activity_desc.show(5)"
   ]
  },
  {
   "cell_type": "code",
   "execution_count": 5,
   "metadata": {
    "vscode": {
     "languageId": "plaintext"
    }
   },
   "outputs": [
    {
     "name": "stdout",
     "output_type": "stream",
     "text": [
      "+------------+--------------------+\n",
      "|EntityNumber|        Denomination|\n",
      "+------------+--------------------+\n",
      "|0200.362.210|in BW Association...|\n",
      "|0200.362.408|Intercommunale So...|\n",
      "|0201.105.843|  \"\"\"I.D.E.A. S.C\"\"\"|\n",
      "|0201.107.526|Association Inter...|\n",
      "|0201.107.922|INTERCOMMUNALE DU...|\n",
      "+------------+--------------------+\n",
      "only showing top 5 rows\n",
      "\n"
     ]
    }
   ],
   "source": [
    "# Filtrer pour récupérer le nom de l'entreprise typeofdenomination 1 FR.\n",
    "\n",
    "denomination_fr = denomination.filter(\n",
    "    (col(\"TypeOfDenomination\") == 1) &\n",
    "    (col(\"Language\") == 1)\n",
    ").select(\"EntityNumber\", \"Denomination\")\n",
    "\n",
    "denomination_fr.show(5)\n"
   ]
  },
  {
   "cell_type": "code",
   "execution_count": 6,
   "metadata": {
    "vscode": {
     "languageId": "plaintext"
    }
   },
   "outputs": [
    {
     "name": "stdout",
     "output_type": "stream",
     "text": [
      "+------------+-------------+-----------+--------+--------------+--------------------+------------+\n",
      "|EntityNumber|ActivityGroup|NaceVersion|NaceCode|Classification|         Description|Denomination|\n",
      "+------------+-------------+-----------+--------+--------------+--------------------+------------+\n",
      "|0798.255.362|            1|       2008|   47713|          MAIN|Commerce de détai...|        NULL|\n",
      "|0200.068.636|            6|       2008|   36000|          MAIN|Captage, traiteme...|        NULL|\n",
      "|0200.068.636|            1|       2008|   36000|          MAIN|Captage, traiteme...|        NULL|\n",
      "|0200.068.636|            1|       2008|   93110|          SECO|Gestion d'install...|        NULL|\n",
      "|0200.068.636|            1|       2008|   93126|          SECO|Activités de club...|        NULL|\n",
      "+------------+-------------+-----------+--------+--------------+--------------------+------------+\n",
      "only showing top 5 rows\n",
      "\n"
     ]
    }
   ],
   "source": [
    "# Joindre activity_desc avec denomination\n",
    "activity_with_name = activity_desc.join(\n",
    "    denomination_fr,\n",
    "    \"EntityNumber\",\n",
    "    how=\"left\"\n",
    ")\n",
    "\n",
    "activity_with_name.show(5)"
   ]
  },
  {
   "cell_type": "code",
   "execution_count": 7,
   "metadata": {
    "vscode": {
     "languageId": "plaintext"
    }
   },
   "outputs": [
    {
     "name": "stdout",
     "output_type": "stream",
     "text": [
      "+------------+-------------------+-------+\n",
      "|EntityNumber|     MunicipalityFR|Zipcode|\n",
      "+------------+-------------------+-------+\n",
      "|0200.065.765|       Destelbergen|   9070|\n",
      "|0200.068.636|               Gent|   9000|\n",
      "|0200.171.970|               Gent|   9000|\n",
      "|0200.245.711|     Geraardsbergen|   9500|\n",
      "|0200.305.493|Sint-Lievens-Houtem|   9520|\n",
      "+------------+-------------------+-------+\n",
      "only showing top 5 rows\n",
      "\n"
     ]
    }
   ],
   "source": [
    "# Filtre de l'address pour TypeOfAddress='REGO'\n",
    "address_rego = address.filter(\n",
    "    col(\"TypeOfAddress\") == \"REGO\"\n",
    ").select(\"EntityNumber\", \"MunicipalityFR\", \"Zipcode\")\n",
    "\n",
    "address_rego.show(5)"
   ]
  },
  {
   "cell_type": "code",
   "execution_count": 8,
   "metadata": {
    "vscode": {
     "languageId": "plaintext"
    }
   },
   "outputs": [
    {
     "name": "stdout",
     "output_type": "stream",
     "text": [
      "+------------+-------------+-----------+--------+--------------+--------------------+------------+--------------+-------+\n",
      "|EntityNumber|ActivityGroup|NaceVersion|NaceCode|Classification|         Description|Denomination|MunicipalityFR|Zipcode|\n",
      "+------------+-------------+-----------+--------+--------------+--------------------+------------+--------------+-------+\n",
      "|0798.255.362|            1|       2008|   47713|          MAIN|Commerce de détai...|        NULL|          NULL|   NULL|\n",
      "|0200.068.636|            6|       2008|   36000|          MAIN|Captage, traiteme...|        NULL|          Gent|   9000|\n",
      "|0200.068.636|            1|       2008|   36000|          MAIN|Captage, traiteme...|        NULL|          Gent|   9000|\n",
      "|0200.068.636|            1|       2008|   93110|          SECO|Gestion d'install...|        NULL|          Gent|   9000|\n",
      "|0200.068.636|            1|       2008|   93126|          SECO|Activités de club...|        NULL|          Gent|   9000|\n",
      "+------------+-------------+-----------+--------+--------------+--------------------+------------+--------------+-------+\n",
      "only showing top 5 rows\n",
      "\n"
     ]
    }
   ],
   "source": [
    "# Joindre activity_with_name avec address_rego\n",
    "df = activity_with_name.join(\n",
    "    address_rego,\n",
    "    \"EntityNumber\",\n",
    "    how=\"left\"\n",
    ")\n",
    "\n",
    "df.show(5)"
   ]
  },
  {
   "cell_type": "code",
   "execution_count": null,
   "metadata": {
    "vscode": {
     "languageId": "plaintext"
    }
   },
   "outputs": [
    {
     "name": "stdout",
     "output_type": "stream",
     "text": [
      "+------------+--------------------+--------------------+------------+-------+\n",
      "|EntityNumber|      EnterpriseName|          Activities|Municipality|Zipcode|\n",
      "+------------+--------------------+--------------------+------------+-------+\n",
      "|0201.105.843|  \"\"\"I.D.E.A. S.C\"\"\"|Administration pu...|        Mons|   7000|\n",
      "|0201.311.226|                NULL|Distribution d'él...|     Hasselt|   3500|\n",
      "|0202.554.608|Association Inter...|Captage, traiteme...|      Mettet|   5640|\n",
      "|0205.157.176|                NULL|Construction de r...|     Torhout|   8820|\n",
      "|0205.797.475|Association Inter...|Administration pu...|       Arlon|   6700|\n",
      "+------------+--------------------+--------------------+------------+-------+\n",
      "only showing top 5 rows\n",
      "\n"
     ]
    }
   ],
   "source": [
    "final_df = df.groupBy(\"EntityNumber\").agg(\n",
    "    first(\"Denomination\").alias(\"EnterpriseName\"),\n",
    "    concat_ws(\";\", collect_list(\"Description\")).alias(\"Activities\"),\n",
    "    first(\"MunicipalityFR\").alias(\"Municipality\"),\n",
    "    first(\"Zipcode\").alias(\"Zipcode\")\n",
    ")\n",
    "\n",
    "final_df.show(5)\n",
    "\n",
    "# Réduire le nombre de partitions à 1\n",
    "final_single = final_df.coalesce(1)\n",
    "\n",
    "# Sauvegarder fichier CSV\n",
    "final_single.write.csv(\"/data/output/result.csv\", header=True)"
   ]
  },
  {
   "cell_type": "code",
   "execution_count": null,
   "metadata": {},
   "outputs": [],
   "source": []
  }
 ],
 "metadata": {
  "kernelspec": {
   "display_name": "Python 3 (ipykernel)",
   "language": "python",
   "name": "python3"
  },
  "language_info": {
   "codemirror_mode": {
    "name": "ipython",
    "version": 3
   },
   "file_extension": ".py",
   "mimetype": "text/x-python",
   "name": "python",
   "nbconvert_exporter": "python",
   "pygments_lexer": "ipython3",
   "version": "3.11.6"
  }
 },
 "nbformat": 4,
 "nbformat_minor": 4
}
