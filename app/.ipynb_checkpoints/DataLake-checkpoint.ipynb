{
 "cells": [
  {
   "cell_type": "code",
   "execution_count": null,
   "metadata": {
    "vscode": {
     "languageId": "plaintext"
    }
   },
   "outputs": [],
   "source": [
    "from pyspark.sql import SparkSession\n",
    "from pyspark.sql.functions import col, collect_list, concat_ws, first"
   ]
  },
  {
   "cell_type": "code",
   "execution_count": null,
   "metadata": {
    "vscode": {
     "languageId": "plaintext"
    }
   },
   "outputs": [],
   "source": [
    "# Création Session Spark\n",
    "spark = (SparkSession.builder\n",
    "         .config(\"spark.hadoop.fs.defaultFS\", \"hdfs://namenode:9000\")\n",
    "         .getOrCreate())"
   ]
  },
  {
   "cell_type": "code",
   "execution_count": null,
   "metadata": {
    "vscode": {
     "languageId": "plaintext"
    }
   },
   "outputs": [],
   "source": [
    "activity = spark.read.csv(\"hdfs://namenode:9000/data/activity.csv\", header=True, inferSchema=True)\n",
    "code = spark.read.csv(\"hdfs://namenode:9000/data/code.csv\", header=True, inferSchema=True)\n",
    "denomination = spark.read.csv(\"hdfs://namenode:9000/data/denomination.csv\", header=True, inferSchema=True)\n",
    "address = spark.read.csv(\"hdfs://namenode:9000/data/address.csv\", header=True, inferSchema=True)\n",
    "\n",
    "activity.show(5)\n",
    "code.show(5)\n",
    "denomination.show(5)\n",
    "address.show(5)"
   ]
  },
  {
   "cell_type": "code",
   "execution_count": null,
   "metadata": {
    "vscode": {
     "languageId": "plaintext"
    }
   },
   "outputs": [],
   "source": [
    "# Filtre du code pour Nace2008 en Français\n",
    "code2008fr = code.filter(\n",
    "    (col(\"Category\") == \"Nace2008\") &\n",
    "    (col(\"Language\") == \"FR\")\n",
    ").select(\"Code\", \"Description\")\n",
    "\n",
    "# Filtre uniquement des activités 2008\n",
    "activity2008 = activity.filter(col(\"NaceVersion\") == 2008)\n",
    "\n",
    "# Joindre activity2008 avec code2008fr pour obtenir la description NACE\n",
    "activity_desc = activity2008.join(\n",
    "    code2008fr,\n",
    "    activity2008.NaceCode == code2008fr.Code,\n",
    "    how=\"left\"\n",
    ").drop(code2008fr.Code)\n",
    "\n",
    "activity_desc.show(5)"
   ]
  },
  {
   "cell_type": "code",
   "execution_count": null,
   "metadata": {
    "vscode": {
     "languageId": "plaintext"
    }
   },
   "outputs": [],
   "source": [
    "# Filtrer pour récupérer le nom de l'entreprise typeofdenomination 1 FR.\n",
    "\n",
    "denomination_fr = denomination.filter(\n",
    "    (col(\"TypeOfDenomination\") == 1) &\n",
    "    (col(\"Language\") == 1)\n",
    ").select(\"EntityNumber\", \"Denomination\")\n",
    "\n",
    "denomination_fr.show(5)\n"
   ]
  },
  {
   "cell_type": "code",
   "execution_count": null,
   "metadata": {
    "vscode": {
     "languageId": "plaintext"
    }
   },
   "outputs": [],
   "source": [
    "# Joindre activity_desc avec denomination\n",
    "activity_with_name = activity_desc.join(\n",
    "    denomination_fr,\n",
    "    \"EntityNumber\",\n",
    "    how=\"left\"\n",
    ")\n",
    "\n",
    "activity_with_name.show(5)"
   ]
  },
  {
   "cell_type": "code",
   "execution_count": null,
   "metadata": {
    "vscode": {
     "languageId": "plaintext"
    }
   },
   "outputs": [],
   "source": [
    "# Filtre de l'address pour TypeOfAddress='REGO'\n",
    "address_rego = address.filter(\n",
    "    col(\"TypeOfAddress\") == \"REGO\"\n",
    ").select(\"EntityNumber\", \"MunicipalityFR\", \"Zipcode\")\n",
    "\n",
    "address_rego.show(5)"
   ]
  },
  {
   "cell_type": "code",
   "execution_count": null,
   "metadata": {
    "vscode": {
     "languageId": "plaintext"
    }
   },
   "outputs": [],
   "source": [
    "# Joindre activity_with_name avec address_rego\n",
    "df = activity_with_name.join(\n",
    "    address_rego,\n",
    "    \"EntityNumber\",\n",
    "    how=\"left\"\n",
    ")\n",
    "\n",
    "df.show(5)"
   ]
  },
  {
   "cell_type": "code",
   "execution_count": null,
   "metadata": {
    "vscode": {
     "languageId": "plaintext"
    }
   },
   "outputs": [],
   "source": [
    "final_df = df.groupBy(\"EntityNumber\").agg(\n",
    "    first(\"Denomination\").alias(\"EnterpriseName\"),\n",
    "    concat_ws(\";\", collect_list(\"Description\")).alias(\"Activities\"),\n",
    "    first(\"MunicipalityFR\").alias(\"Municipality\"),\n",
    "    first(\"Zipcode\").alias(\"Zipcode\")\n",
    ")\n",
    "\n",
    "final_df.show(5)\n",
    "\n",
    "# Réduire le nombre de partitions à 1\n",
    "final_single = final_df.coalesce(1)\n",
    "\n",
    "# Sauvegarder fichier CSV\n",
    "final_single.write.csv(\"/data/output/result.csv\", header=True)"
   ]
  }
 ],
 "metadata": {
  "language_info": {
   "name": "python"
  }
 },
 "nbformat": 4,
 "nbformat_minor": 2
}
